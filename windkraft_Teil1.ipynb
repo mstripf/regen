{
 "cells": [
  {
   "cell_type": "markdown",
   "metadata": {},
   "source": [
    "# Windkraft - Teil 1\n",
    "\n",
    "[Prof. Dr.-Ing. Matthias Stripf](mailto:matthias.stripf@hs-karlsruhe.de)"
   ]
  },
  {
   "cell_type": "markdown",
   "metadata": {},
   "source": [
    "## Einführung \n",
    "\n",
    "### Entstehung der Winde\n",
    "\n",
    "Die Luftströmungen auf der Erde werden aus regionalen Temperatur- und damit Dichteunterschieden angetrieben. Man unterscheidet zwischen globalen und lokalen Windsystemen."
   ]
  },
  {
   "cell_type": "markdown",
   "metadata": {},
   "source": [
    "#### Globales Windsystem (Planetarische Zirkulation)\n",
    "\n",
    "Die globalen Windsysteme resultieren aus der unterschiedlich starken Sonneneinstrahlung, die am Äquator am höchsten und an den Polen am geringsten ist. \n",
    "\n",
    "Durch die große Sonneneinstrahlung am Äquator steigt die Luft in große Höhen auf (15 bis 18 km) und strömt dort in Richtung der Pole vom Äquator weg. Durch die nach oben strömende Luft entsteht rund um den Äquator ein Tiefdruckgebiet.\n",
    "\n",
    "Bei der Strömung in großer Höhe Richtung Pole wird die Luft durch die scheinbare Corioliskraft nach Osten abgelenkt - die Erde dreht sich unter der Atmosphäre hinweg (die Umfangsgeschwindigkeit der Erde am Äquator beträgt 463 m/s). Die Luft wird dabei auf immer kleineren Raum verdichtet (Meridiane laufen zu den Polen hin zusammen) und sinkt deshalb etwa bei den 30sten Breitengraden wieder ab. Hierdurch entstehen 30° Süd und 30° Nord stabile Hochdruckgebiete.\n",
    "\n",
    "In den unteren Luftschichten strömt die Luft dann vom Hochdruckgebiet in Richtung Tiefdruckgebiet am Äquator zurück. Sie wird dabei durch die Corioliskraft Richtung Westen abgelenkt.\n",
    "\n",
    "Jenseits der 30sten Breitengrade ergeben sich nach dem gleichen Prinzip zwei weitere großräumige Strömungszonen, die sog. Ferrel- und Polare-Zelle.\n",
    "\n",
    "Das folgende Bild zeigt einen Schnitt durch die Atmosphäre vom Nord- zum Südpol.\n",
    "\n",
    "<img src=\"globale_windsysteme.png\" width=\"640\">\n",
    "\n",
    "Die resultierenden Strömungen in den unteren Luftschichten und die entsprechenden Hoch- und Tiefdruckgebiete sind in der folgenden Darstellung zu erkennen.\n",
    "\n",
    "<img src=\"globale_windsysteme_2.png\" width=\"640\">\n",
    "\n"
   ]
  },
  {
   "cell_type": "markdown",
   "metadata": {},
   "source": [
    "Eine eindrucksvolle Darstellung der Windgeschwindigkeiten auf der Erde in verschiedenen Höhen und in Echtzeit ist auf [dieser Webseite](https://earth.nullschool.net) zu finden.\n",
    "\n",
    "Das folgende Bild zeigt die derzeitigen Windgeschwindigkeiten in Bodennähe (mittlerer Druck 1000 mbar)."
   ]
  },
  {
   "cell_type": "code",
   "execution_count": 29,
   "metadata": {},
   "outputs": [
    {
     "data": {
      "text/html": [
       "<iframe src=https://earth.nullschool.net/#current/wind/isobaric/1000hPa/winkel3/loc=8.40417,49.0 width=640 height=400></iframe>"
      ],
      "text/plain": [
       "<IPython.core.display.HTML object>"
      ]
     },
     "execution_count": 29,
     "metadata": {},
     "output_type": "execute_result"
    }
   ],
   "source": [
    "import IPython\n",
    "iframe = '<iframe src=https://earth.nullschool.net/#current/wind/isobaric/1000hPa/winkel3/loc=8.40417,49.0 width=640 height=400></iframe>'\n",
    "IPython.display.HTML(iframe)"
   ]
  },
  {
   "cell_type": "markdown",
   "metadata": {},
   "source": [
    "Im nächsten Bild sieht man die aktuellen Windgeschwindigkeiten in einer Höhe von etwa 11 km (mittlerer Druck 250 mbar):"
   ]
  },
  {
   "cell_type": "code",
   "execution_count": 30,
   "metadata": {},
   "outputs": [
    {
     "data": {
      "text/html": [
       "<iframe src=https://earth.nullschool.net/#current/wind/isobaric/250hPa/winkel3/loc=8.40417,49.0 width=640 height=400></iframe>"
      ],
      "text/plain": [
       "<IPython.core.display.HTML object>"
      ]
     },
     "execution_count": 30,
     "metadata": {},
     "output_type": "execute_result"
    }
   ],
   "source": [
    "iframe = '<iframe src=https://earth.nullschool.net/#current/wind/isobaric/250hPa/winkel3/loc=8.40417,49.0 width=640 height=400></iframe>'\n",
    "IPython.display.HTML(iframe)"
   ]
  },
  {
   "cell_type": "markdown",
   "metadata": {},
   "source": [
    "#### Lokale Windsysteme\n",
    "\n",
    "Den globalen Windsystemen sind lokale überlagert, die z.B. durch Fallwinde in Gebirgsregionen oder durch unterschiedliche thermische Trägheiten der Erdoberfläche (Land gegenüber Wasser) hervorgerufen werden.\n",
    "\n",
    "##### Fallwinde (Katabatische Winde)\n",
    "\n",
    "Fallwinde entstehen, wenn eine Gebirgskette waagrecht angeströmt und die Luft nach oben abgelenkt wird. Durch den Aufstieg der Luft kühlt diese ab, kann deshalb nicht mehr so viel Feuchtigkeit aufnehmen und regnet ab. Die kalte trockene Luft hat nun eine viel größere Dichte als die warme Luft auf der anderen Seite der Bergkette und strömt dort mit hoher Geschwindigkeit bergabwärts. Bekanntes Beispiel in Europa ist der Föhn in den Alpen.\n",
    "\n",
    "##### Land-See-System\n",
    "\n",
    "In Küstennähe entstehen Land-See-Windsysteme durch die unterschiedliche Wärmekapazität von Wasser- und Landmasse. Aufgrund der viel höheren Wärmekapazität erwärmt sich das Wasser tagsüber weniger stark durch Sonneneinstrahlung als die Landmasse. Die höhere Bodentemperatur an Land führt dazu, dass die Luftmassen dort aufsteigen und ein Tiefdruckgebiet entsteht. Auf dem kälteren Meer sinkt die Luftmasse wieder ab und es entsteht dort ein Hochdruckgebiet. Die resultierende Ausgleichsströmung vom hohen zum tiefen Druck führt tagsüber zu einem auflandigen Wind in Küstennähe.\n",
    "\n",
    "Nachts kühlt das Wasser weniger ab als die Landmasse und die Verhältnisse kehren sich gerade um und es resultiert nachts ein ablandiger Wind.\n",
    "\n",
    "<img src=\"land_see_system.png\" width=\"400\">"
   ]
  },
  {
   "cell_type": "markdown",
   "metadata": {},
   "source": [
    "### Atmosphärische Grenzschicht\n",
    "\n",
    "In der atmosphärischen Grenzschicht geht die Geschwindigkeit vom Wert Null am Boden auf die Geschwindigkeit des sog. geostrophischen Windes über. Die Dicke der Grenzschicht ($\\delta_{99}$) reicht von einigen hundert bis zu etwa 3000 Metern. In Bodennähe ($z < 300$ m) ist die Grenzschicht turbulent und der Geschwindigkeitsverlauf ist stark abhängig von der Oberflächentopologie (\"Rauigkeit\"). Im äußeren Bereich spielt die Turbulenz keine Rolle, die Strömung ist dort weitgehend laminar.\n",
    "\n",
    "In der bodennahen Grenzschicht kann das Geschwindigkeitsprofil mit dem sog. logarithmischen Wandgesetz beschrieben werden. \n",
    "\n",
    "$$u(z) = \\frac{u_\\tau}{\\varkappa} \\ln \\frac{z}{z_0} = \\frac{u_\\tau}{\\varkappa} \\ln \\frac{z\\cdot u_\\tau}{\\nu} + u_\\tau C - \\Delta u^+\\left(\\frac{k_s\\cdot u_\\tau}{\\nu}\\right)$$\n",
    "\n",
    "Der Ausdruck nach dem ersten Gleichheitszeichen ist der in der Meteorologie übliche. Hier wird die Rauigkeit durch eine sog. Rauigkeitslänge $z_0$ beschrieben. Der Ausdruck nach dem zweiten Gleichheitszeichen entspricht der in der Strömungsmechanik üblichen Variante. Dort wird die Rauigkeit über eine äquivalente Sandkornrauigkeit $k_s$ beschrieben, die zwar dieselbe Einheit wie $z_0$ besitzt, aber völlig andere Werte annimmt.\n",
    "\n",
    "Die in der Gleichung auftretende Schubspannungsgeschwindigkeit berechnet sich aus der Wandschubspannung $\\tau_w$ und der Dichte: $u_\\tau = \\sqrt{\\tau_w / \\rho}$. $\\varkappa$ ist die sog. Kármán-Konstante, die den Wert 0,41 hat; $C$ nimmt den Wert 5,2 an.\n",
    "\n",
    "Typische Werte für die Rauigkeitslänge $z_0$ und unterschiedliche Geländetypen sind in der folgenden Tabelle gegeben:\n",
    "\n",
    "| Geländetyp                      | $z_0~\\text{in m}$ |\n",
    "|:------------------------------- |:-----------------:|\n",
    "| ruhige Wasseroberfläche         | 0,0001 - 0,001    |\n",
    "| Rasen                           | 0,01              |\n",
    "| Ackerland                       | 0,03              |\n",
    "| dünnbesiedelte Büsche und Bäume | 0,1               |\n",
    "| Wald                            | 0,3 - 1,6         |\n",
    "| Vorort, flache Bebauung         | 1,5               |\n",
    "| Stadtkerne                      | 2 - 3             |\n",
    "\n",
    "Eine weitere praktische Version des Geschwindigkeitsprofils ergibt sich aus der obigen Gleichung, wenn die Geschwindigkeit in einer bestimmten Höhe bekannt ist:\n",
    "\n",
    "$$u(z) = u(z_1)\\frac{\\ln \\frac{z}{z_0}}{\\ln \\frac{z_1}{z_0}}$$\n",
    "\n",
    "Das folgende Diagramm zeigt die Geschwindigkeitsprofile für verschiedene Geländetypen bei konstanter geostrophischer Windgeschwindigkeit $u(z_1=1000\\text{ m}) = 20 \\text{ m/s}$ (Python-Skript dazu [hier](geschwindigkeitsprofil.ipynb)):\n",
    "\n",
    "<img src=\"Geschwindigkeitsprofil.png\" width=\"640\">"
   ]
  },
  {
   "cell_type": "markdown",
   "metadata": {},
   "source": [
    "### Beschreibung von Winddaten\n",
    "\n",
    "Langjährige Mittelwerte (1981 bis 2000) der Windgeschwindigkeiten in unterschiedlichen Höhen zwischen 10 und 100 m sind beim Deutschen Wetterdienst kostenlos über eine [FTP-Seite](ftp://ftp-cdc.dwd.de/pub/CDC/grids_germany/multi_annual/wind_parameters/) abrufbar. Die Daten liegen dort kompakt als Parameter einer Weibull-Verteilung vor, mit der die Häufigkeitsverteilung von Windgeschwindigkeiten gut beschrieben werden kann.\n",
    "\n",
    "Die Verteilungsdichte lässt sich über folgende Gleichung beschreiben:\n",
    "\n",
    "$$f(u) = \\frac{k}{c} \\left(\\frac{u}{c}\\right)^{k-1} \\exp{\\left[-\\left(\\frac{u}{c}\\right)^k\\right]}\\qquad\\qquad \\mathrm{in}\\ \\frac{1}{\\mathrm{m/s}} $$\n",
    "\n",
    "mit Skalenparameter $c$, der in etwa proportional zur mittleren Geschwindigkeit ist und dem Formfaktor $k$.\n",
    "\n",
    "Im folgenden Bild sind die mittlere Windgeschwindigkeit sowie die beiden Parameter der Weibull-Verteilung für Deutschland in zwei unterschiedlichen Höhen dargestellt (Python-Skript dazu [hier](winddaten_de.ipynb)).\n",
    "\n",
    "<img src=\"weibull.png\" width=\"600\">\n",
    "\n",
    "Für Karlsruhe ([Gauß-Krüger-Koordinaten](https://de.wikipedia.org/wiki/Gauß-Krüger-Koordinatensystem): Rechtswert 3 451500, Hochwert 5 432000, Umrechnung Koordinatensysteme siehe z.B. [hier](https://www.deine-berge.de/Rechner/Koordinaten/Dezimal/47.171812,6.096974)), Cuxhaven und in der Nordsee sind folgende Werte zu finden: \n",
    "\n",
    "| Stadt     | Gauß-Krüger-Koord.       | $\\overline{u}$ in m/s | $c$ in m/s | $k$ |\n",
    "|:--------- |:------------------------:|--------:|--------:|-------:|\n",
    "| Karlsruhe | R: 3 456446, H: 5 430126 | 3,6     | 4,0     | 1,72   |\n",
    "| Cuxhaven  | R: 3 479541, H: 5 969863 | 6,4     | 7,1     | 2,17   |\n",
    "| Nordsee   | R: 3 418124, H: 6 044212 | 10,6    | 12,4    | 2,63   |\n",
    "\n",
    "Das folgende Bild zeigt die Verteilungen für die Parameter aus der Tabelle (Python-Skript dazu [hier](winddaten_de.ipynb#weibull)):\n",
    "\n",
    "<img src=\"weibull2.png\" width=\"600\">\n",
    "\n",
    "Je größer der Formparameter ist, desto homogener ist die Windgeschwindigkeit über das Jahr verteilt. Dies wird jedoch erst deutlich, wenn man den Skalenparameter bzw. die mittlere Geschwindigkeit konstant hält, während sich der Formfaktor ändert. Im Beispiel oben ist das für einen fiktiven Ort eingetragen, der den selben Skalenparameter wie der Ort in der Nordsee aufweist."
   ]
  },
  {
   "cell_type": "markdown",
   "metadata": {},
   "source": [
    "### Berechnung der zu erwartenden Energieausbeute\n",
    "\n",
    "Der Energieertrag innerhalb eines bestimmten Zeitraumes $\\Delta t$, z.B. eines Jahres ($\\small{\\Delta t = 365 \\cdot 24 \\cdot 60 \\cdot 60\\, \\mathrm{s} = 31\\,536\\,000\\, \\mathrm{s}}$), lässt sich berechnen, wenn die Wahrscheinlichkeitsdichtefunktion eines Standorts $f(u)$ sowie die Leistungskurve $P(u)$ der Windkraftanlage bekannt ist:\n",
    "\n",
    "$$E = \\Delta t \\cdot \\int_0^\\infty f(u)\\cdot P(u) \\mathrm{d}u$$\n",
    "\n",
    "Im [nächsten Kapitel](windkraft_Teil2.ipynb) werden wir die Auslegung einer Windkraftanlage vornehmen und die noch unbekannte Leistungskurve einer Anlage ermitteln."
   ]
  },
  {
   "cell_type": "markdown",
   "metadata": {
    "collapsed": true
   },
   "source": [
    "\n",
    "---\n",
    "###### Copyright (c) 2017, Matthias Stripf\n",
    "\n",
    "Der folgende Python-Code darf ignoriert werden. Er dient nur dazu, die richtige Formatvorlage für die Jupyter-Notebooks zu laden."
   ]
  },
  {
   "cell_type": "code",
   "execution_count": 26,
   "metadata": {},
   "outputs": [
    {
     "data": {
      "text/html": [
       "<link href='http://fonts.googleapis.com/css?family=Fenix' rel='stylesheet' type='text/css'>\n",
       "<link href='http://fonts.googleapis.com/css?family=Alegreya+Sans:100,300,400,500,700,800,900,100italic,300italic,400italic,500italic,700italic,800italic,900italic' rel='stylesheet' type='text/css'>\n",
       "<link href='http://fonts.googleapis.com/css?family=Source+Code+Pro:300,400' rel='stylesheet' type='text/css'>\n",
       "<style>\n",
       "\n",
       "@font-face {\n",
       "    font-family: \"Computer Modern\";\n",
       "    src: url('http://mirrors.ctan.org/fonts/cm-unicode/fonts/otf/cmunss.otf');\n",
       "}\n",
       "\n",
       "\n",
       "#notebook_panel { /* main background */\n",
       "    background: rgb(245,245,245);\n",
       "}\n",
       "\n",
       "div.cell { /* set cell width */\n",
       "    width: 750px;\n",
       "}\n",
       "\n",
       "div #notebook { /* centre the content */\n",
       "    background: #fff; /* white background for content */\n",
       "    width: 1000px;\n",
       "    margin: auto;\n",
       "    padding-left: 0em;\n",
       "}\n",
       "\n",
       "#notebook li { /* More space between bullet points */\n",
       "margin-top:0.8em;\n",
       "}\n",
       "\n",
       "/* draw border around running cells */\n",
       "div.cell.border-box-sizing.code_cell.running { \n",
       "    border: 1px solid #111;\n",
       "}\n",
       "\n",
       "/* Put a solid color box around each cell and its output, visually linking them*/\n",
       "div.cell.code_cell {\n",
       "    background-color: rgb(256,256,256); \n",
       "    border-radius: 0px; \n",
       "    padding: 0.5em;\n",
       "    margin-left:1em;\n",
       "    margin-top: 1em;\n",
       "}\n",
       "\n",
       "\n",
       "div.text_cell_render{\n",
       "    font-family: 'Alegreya Sans' sans-serif;\n",
       "    line-height: 140%;\n",
       "    font-size: 120%;\n",
       "    font-weight: 400;\n",
       "    width:650px;\n",
       "    margin-left:auto;\n",
       "    margin-right:auto;\n",
       "}\n",
       "\n",
       "/* Formatting for header cells */\n",
       ".text_cell_render h1 {\n",
       "    font-family: 'Alegreya Sans', sans-serif;\n",
       "    font-style:regular;\n",
       "    font-weight: 300;\n",
       "    font-size: 30pt;\n",
       "    line-height: 100%;\n",
       "    color:#CD2305;\n",
       "    margin-bottom: 0.5em;\n",
       "    margin-top: 0.5em;\n",
       "    display: block;\n",
       "}\n",
       ".text_cell_render h2 {\n",
       "    font-family: 'Alegreya Sans', sans-serif;\n",
       "    font-style:regular;\n",
       "    font-weight: 300;\n",
       "    font-size: 30pt;\n",
       "    line-height: 100%;\n",
       "    color:#CD2305;\n",
       "    margin-bottom: 0.5em;\n",
       "    margin-top: 0.5em;\n",
       "    display: block;\n",
       "}\t\n",
       ".text_cell_render h3 {\n",
       "    font-family: 'Alegreya Sans', sans-serif;\n",
       "    font-weight: 300;\n",
       "    font-size: 24pt;\n",
       "    line-height: 100%;\n",
       "    color:#CD2305;\n",
       "    margin-bottom: 0.1em;\n",
       "    margin-top: 0.3em;\n",
       "    display: block;\n",
       "}\t\n",
       "\n",
       ".text_cell_render h4 {\n",
       "    font-family: 'Alegreya Sans', sans-serif;\n",
       "    font-weight: 300;\n",
       "    margin-top:12px;\n",
       "\tfont-size: 20pt;\n",
       "    color:#CD2305;\n",
       "    margin-bottom: 3px;\n",
       "    font-style: regular;\n",
       "}\n",
       "\n",
       ".text_cell_render h5 {\n",
       "    font-family: 'Alegreya Sans', sans-serif;\n",
       "    font-weight: 300;\n",
       "    font-size: 16pt;\n",
       "    margin-top: 12px;\n",
       "    color:#CD2305;\n",
       "    margin-bottom: 3px;\n",
       "    font-style: regular;\n",
       "}\n",
       "\n",
       ".text_cell_render h6 {  /*Use this for small titles*/\n",
       "    font-family: 'Alegreya Sans', sans-serif;\n",
       "    font-weight: 300;\n",
       "    font-size: 16pt;\n",
       "    color: #CD2305;\n",
       "    font-style: italic;\n",
       "    margin-bottom: .5em;\n",
       "    margin-top: 0.5em;\n",
       "    display: block;\n",
       "}\n",
       "\n",
       ".text_cell_render h7 { /*use this for copyright note*/\n",
       "    font-family: 'Source Code Pro', sans-serif;\n",
       "    font-weight: 300;\n",
       "    font-size: 9pt;\n",
       "    line-height: 100%;\n",
       "    color: grey;\n",
       "    margin-bottom: 1px;\n",
       "    margin-top: 1px;\n",
       "}\n",
       "\n",
       "    .CodeMirror{\n",
       "            font-family: \"Source Code Pro\";\n",
       "\t\t\tfont-size: 90%;\n",
       "    }\n",
       "/*    .prompt{\n",
       "        display: None;\n",
       "    }*/\n",
       "\t\n",
       "    \n",
       "    .warning{\n",
       "        color: rgb( 240, 20, 20 )\n",
       "        }  \n",
       "</style>\n",
       "/*\n",
       "<script>\n",
       "    MathJax.Hub.Config({\n",
       "                        TeX: {\n",
       "                           extensions: [\"AMSmath.js\"], \n",
       "                           equationNumbers: { autoNumber: \"AMS\", useLabelIds: true}\n",
       "                           },\n",
       "                tex2jax: {\n",
       "                    inlineMath: [ ['$','$'], [\"\\\\(\",\"\\\\)\"] ],\n",
       "                    displayMath: [ ['$$','$$'], [\"\\\\[\",\"\\\\]\"] ]\n",
       "                },\n",
       "                displayAlign: 'center', // Change this to 'center' to center equations.\n",
       "                \"HTML-CSS\": {\n",
       "                    styles: {'.MathJax_Display': {\"margin\": 4}}\n",
       "                }\n",
       "        });\n",
       "</script>\n",
       " */\n"
      ],
      "text/plain": [
       "<IPython.core.display.HTML object>"
      ]
     },
     "execution_count": 26,
     "metadata": {},
     "output_type": "execute_result"
    }
   ],
   "source": [
    "from IPython.core.display import HTML\n",
    "def css_styling():\n",
    "    styles = open('TFDStyle.css', 'r').read()\n",
    "    return HTML(styles)\n",
    "css_styling()"
   ]
  },
  {
   "cell_type": "code",
   "execution_count": null,
   "metadata": {
    "collapsed": true
   },
   "outputs": [],
   "source": []
  }
 ],
 "metadata": {
  "kernelspec": {
   "display_name": "Python 3",
   "language": "python",
   "name": "python3"
  },
  "language_info": {
   "codemirror_mode": {
    "name": "ipython",
    "version": 3
   },
   "file_extension": ".py",
   "mimetype": "text/x-python",
   "name": "python",
   "nbconvert_exporter": "python",
   "pygments_lexer": "ipython3",
   "version": "3.6.3"
  },
  "latex_envs": {
   "LaTeX_envs_menu_present": true,
   "autocomplete": true,
   "bibliofile": "biblio.bib",
   "cite_by": "apalike",
   "current_citInitial": 1,
   "eqLabelWithNumbers": true,
   "eqNumInitial": 1,
   "hotkeys": {
    "equation": "Ctrl-E",
    "itemize": "Ctrl-I"
   },
   "labels_anchors": false,
   "latex_user_defs": false,
   "report_style_numbering": false,
   "user_envs_cfg": false
  }
 },
 "nbformat": 4,
 "nbformat_minor": 2
}
